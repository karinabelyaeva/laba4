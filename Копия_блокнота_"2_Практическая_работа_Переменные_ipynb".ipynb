{
  "nbformat": 4,
  "nbformat_minor": 0,
  "metadata": {
    "colab": {
      "provenance": [],
      "toc_visible": true,
      "collapsed_sections": [
        "4Xl9TmXcY-sX"
      ],
      "include_colab_link": true
    },
    "kernelspec": {
      "name": "python3",
      "display_name": "Python 3"
    },
    "language_info": {
      "name": "python"
    }
  },
  "cells": [
    {
      "cell_type": "markdown",
      "metadata": {
        "id": "view-in-github",
        "colab_type": "text"
      },
      "source": [
        "<a href=\"https://colab.research.google.com/github/karinabelyaeva/laba4/blob/main/%D0%9A%D0%BE%D0%BF%D0%B8%D1%8F_%D0%B1%D0%BB%D0%BE%D0%BA%D0%BD%D0%BE%D1%82%D0%B0_%222_%D0%9F%D1%80%D0%B0%D0%BA%D1%82%D0%B8%D1%87%D0%B5%D1%81%D0%BA%D0%B0%D1%8F_%D1%80%D0%B0%D0%B1%D0%BE%D1%82%D0%B0_%D0%9F%D0%B5%D1%80%D0%B5%D0%BC%D0%B5%D0%BD%D0%BD%D1%8B%D0%B5_ipynb%22.ipynb\" target=\"_parent\"><img src=\"https://colab.research.google.com/assets/colab-badge.svg\" alt=\"Open In Colab\"/></a>"
      ]
    },
    {
      "cell_type": "markdown",
      "source": [
        "# Easy tasks"
      ],
      "metadata": {
        "id": "oBx3AWXjHKkd"
      }
    },
    {
      "cell_type": "markdown",
      "source": [
        "Напишите фрагмент кода на Python, который предлагает пользователю ввести свой рост и присваивает введенное пользователем значение переменной с именем height."
      ],
      "metadata": {
        "id": "Ew5ZkttGWjK3"
      }
    },
    {
      "cell_type": "code",
      "execution_count": 33,
      "metadata": {
        "id": "s4GDnkQ8G4Yz",
        "colab": {
          "base_uri": "https://localhost:8080/"
        },
        "outputId": "c545f4fb-5072-4656-c12b-7e7b1d4e5a5f"
      },
      "outputs": [
        {
          "name": "stdout",
          "output_type": "stream",
          "text": [
            "Введите свой рост в сантиметрах:162\n"
          ]
        }
      ],
      "source": [
        "height = input(\"Введите свой рост в сантиметрах:\")"
      ]
    },
    {
      "cell_type": "code",
      "source": [
        "f\"Мой рост {height}\""
      ],
      "metadata": {
        "colab": {
          "base_uri": "https://localhost:8080/",
          "height": 36
        },
        "id": "JWIimjmP4-n7",
        "outputId": "3e3a1d81-052d-4c53-943d-34021ebccba4"
      },
      "execution_count": 34,
      "outputs": [
        {
          "output_type": "execute_result",
          "data": {
            "text/plain": [
              "'Мой рост 162'"
            ],
            "application/vnd.google.colaboratory.intrinsic+json": {
              "type": "string"
            }
          },
          "metadata": {},
          "execution_count": 34
        }
      ]
    },
    {
      "cell_type": "markdown",
      "source": [
        "Напишите фрагмент кода Python, который предлагает пользователю ввести свой люби­мый цвет и присваивает введенное пользователем значение переменной с именем color.\n",
        "\n"
      ],
      "metadata": {
        "id": "wuQRsR1iWz5K"
      }
    },
    {
      "cell_type": "code",
      "source": [
        "color = input(\"Введите свой любимый цвет: \")"
      ],
      "metadata": {
        "id": "5ggIFWKOHDxC",
        "colab": {
          "base_uri": "https://localhost:8080/"
        },
        "outputId": "88c3cf2b-7d76-49a5-c91b-029dc0fa2442"
      },
      "execution_count": 35,
      "outputs": [
        {
          "name": "stdout",
          "output_type": "stream",
          "text": [
            "Введите свой любимый цвет: черныйй\n"
          ]
        }
      ]
    },
    {
      "cell_type": "code",
      "source": [
        "f\"Мой любимый цвет {color}\"\n"
      ],
      "metadata": {
        "colab": {
          "base_uri": "https://localhost:8080/",
          "height": 36
        },
        "id": "ybSTSVKo5Z9K",
        "outputId": "f4bd0ee8-c518-49a2-fb10-3fbf1f94879e"
      },
      "execution_count": 36,
      "outputs": [
        {
          "output_type": "execute_result",
          "data": {
            "text/plain": [
              "'Мой любимый цвет черныйй'"
            ],
            "application/vnd.google.colaboratory.intrinsic+json": {
              "type": "string"
            }
          },
          "metadata": {},
          "execution_count": 36
        }
      ]
    },
    {
      "cell_type": "markdown",
      "source": [
        "Напишите инструкции присваивания, которые выполняют приведенные ниже операции\n",
        "с переменными a и b:\n",
        "\n",
        "а) прибавляет 2 к a и присваивает результат b;\n",
        "\n",
        "б) умножает b на 4 и присваивает результат a;\n",
        "\n",
        "в) делит а на 3.14 и присваивает результат b;\n",
        "\n",
        "г) вычитает 8 из b и присваивает результат a."
      ],
      "metadata": {
        "id": "ww1cC6FzHZdQ"
      }
    },
    {
      "cell_type": "code",
      "source": [
        "a = 0\n",
        "b=a+2\n",
        "a=b*4\n",
        "b=a/3.14\n",
        "a=b-8\n",
        "print(a)\n",
        "print(b)\n"
      ],
      "metadata": {
        "id": "Frq_aPutXkel",
        "colab": {
          "base_uri": "https://localhost:8080/"
        },
        "outputId": "cc933f9d-9e07-48d0-ab24-d876398e2b59"
      },
      "execution_count": 37,
      "outputs": [
        {
          "output_type": "stream",
          "name": "stdout",
          "text": [
            "-5.452229299363058\n",
            "2.5477707006369426\n"
          ]
        }
      ]
    },
    {
      "cell_type": "markdown",
      "source": [
        "Допустим, что переменная sales ссылается на вещественное значение. Напишите инст­рукцию, которая показывает значение, округленное до двух десятичных знаков после точки."
      ],
      "metadata": {
        "id": "e1scII2mYG88"
      }
    },
    {
      "cell_type": "code",
      "source": [
        "sales=12.324323493"
      ],
      "metadata": {
        "id": "3YvU98p_YGbl"
      },
      "execution_count": 38,
      "outputs": []
    },
    {
      "cell_type": "code",
      "source": [
        "rounded_sales = round(sales, 2)\n",
        "print(rounded_sales)"
      ],
      "metadata": {
        "colab": {
          "base_uri": "https://localhost:8080/"
        },
        "id": "TuQeQXQJ-RZq",
        "outputId": "83620a40-b861-4125-dcd1-94f6e14b43c6"
      },
      "execution_count": 42,
      "outputs": [
        {
          "output_type": "stream",
          "name": "stdout",
          "text": [
            "12.32\n"
          ]
        }
      ]
    },
    {
      "cell_type": "markdown",
      "source": [
        "# More tasks"
      ],
      "metadata": {
        "id": "4Xl9TmXcY-sX"
      }
    },
    {
      "cell_type": "markdown",
      "source": [
        "**Расход бензина в расчете на километры пройденного пути.** Расход бензина в расчете на километры пройденного автомобилем пути можно вычислить на основе формулы:\n",
        "\n",
        "расход = пройденные километры / расход бензина в литрах.\n",
        "\n",
        "Напишите программу, которая запрашивает у пользователя число пройденных километ­ ров и расход бензина в литрах. Она должна рассчитать расход бензина автомобилем и показать результат."
      ],
      "metadata": {
        "id": "rstco10mZIMu"
      }
    },
    {
      "cell_type": "code",
      "source": [
        "kilometers = float(input(\"Введите количество пройденных километров: \"))"
      ],
      "metadata": {
        "id": "YZ4XCrOuZHox",
        "colab": {
          "base_uri": "https://localhost:8080/"
        },
        "outputId": "14b48409-f150-4272-a462-09c1bdbe10d7"
      },
      "execution_count": 55,
      "outputs": [
        {
          "name": "stdout",
          "output_type": "stream",
          "text": [
            "Введите количество пройденных километров: 100\n"
          ]
        }
      ]
    },
    {
      "cell_type": "code",
      "source": [
        "fuel_consumed = float(input(\"Введите расход бензина в литрах: \"))"
      ],
      "metadata": {
        "colab": {
          "base_uri": "https://localhost:8080/"
        },
        "id": "Fe_dZMB2_TXb",
        "outputId": "4d322673-4761-4df7-9d07-d217938b4bd7"
      },
      "execution_count": 56,
      "outputs": [
        {
          "name": "stdout",
          "output_type": "stream",
          "text": [
            "Введите расход бензина в литрах: 11\n"
          ]
        }
      ]
    },
    {
      "cell_type": "code",
      "source": [
        "consumption=fuel_consumed / kilometers"
      ],
      "metadata": {
        "id": "D8JyfGldBBlC"
      },
      "execution_count": 69,
      "outputs": []
    },
    {
      "cell_type": "code",
      "source": [
        "print(f\"Расход бензина : {consumption:} литра\")"
      ],
      "metadata": {
        "colab": {
          "base_uri": "https://localhost:8080/"
        },
        "id": "FfYUuSTUBVfn",
        "outputId": "578414d8-3f1d-4414-f708-845a04dd9531"
      },
      "execution_count": 70,
      "outputs": [
        {
          "output_type": "stream",
          "name": "stdout",
          "text": [
            "Расход бензина : 0.11 литра\n"
          ]
        }
      ]
    },
    {
      "cell_type": "markdown",
      "source": [
        "**Чаевые, налоr и общая сумма**. Напишите программу, которая вычисляет общую стои­ мость еды в ресторане. Программа должна попросить пользователя ввести стоимость еды, вычислить размер 18-процентных чаевых и 7-процентного налога с продаж и пока­зать все стоимости и итоговую сумму."
      ],
      "metadata": {
        "id": "Qt4IN8DrZVhl"
      }
    },
    {
      "cell_type": "code",
      "source": [
        "food_price= float(input(\"Введите общую стоимость еды: \"))"
      ],
      "metadata": {
        "id": "79feihf0Zbjm",
        "colab": {
          "base_uri": "https://localhost:8080/"
        },
        "outputId": "552075cd-092c-4d24-b946-9fc206607718"
      },
      "execution_count": 58,
      "outputs": [
        {
          "name": "stdout",
          "output_type": "stream",
          "text": [
            "Введите общую стоимость еды: 5000\n"
          ]
        }
      ]
    },
    {
      "cell_type": "code",
      "source": [
        "tips = 0.18 * food_price"
      ],
      "metadata": {
        "id": "Bx5X5Me_EXvn"
      },
      "execution_count": 62,
      "outputs": []
    },
    {
      "cell_type": "code",
      "source": [
        "sales_tax = 0.07 * food_price"
      ],
      "metadata": {
        "id": "-cRQmXBiFS_D"
      },
      "execution_count": 63,
      "outputs": []
    },
    {
      "cell_type": "code",
      "source": [
        "total_cost = food_price + tips + sales_tax"
      ],
      "metadata": {
        "id": "F1AQsh9aFfCE"
      },
      "execution_count": 64,
      "outputs": []
    },
    {
      "cell_type": "code",
      "source": [
        "print(f\"Стоимость еды: ${food_price:}\")\n",
        "print(f\"Чаевые (18%): ${tips:}\")\n",
        "print(f\"Налог с продаж (7%): ${sales_tax:}\")\n",
        "print(f\"Общая сумма: ${total_cost:}\")"
      ],
      "metadata": {
        "colab": {
          "base_uri": "https://localhost:8080/"
        },
        "id": "BKy7j1g8FuQR",
        "outputId": "4b4ba39d-1060-473f-871e-642aa14f26dd"
      },
      "execution_count": 66,
      "outputs": [
        {
          "output_type": "stream",
          "name": "stdout",
          "text": [
            "Стоимость еды: $5000.0\n",
            "Чаевые (18%): $900.0\n",
            "Налог с продаж (7%): $350.00000000000006\n",
            "Общая сумма: $6250.0\n"
          ]
        }
      ]
    },
    {
      "cell_type": "markdown",
      "source": [
        "**Преобразователь температуры по шкале Цельсия в температуру по шкале Фарен­гейта**. Напишите программу, которая преобразует показания температуры по шкале Цельсия в температуру по шкале Фаренгейта. Программа должна попросить пользователя ввести температуру по шкале Цельсия и по­ казать температуру, преобразованную в шкалу Фаренгейта."
      ],
      "metadata": {
        "id": "C1hJxD0_Zjao"
      }
    },
    {
      "cell_type": "code",
      "source": [
        "celsius_temperature = float(input(\"Введите температуру по Цельсию: \"))"
      ],
      "metadata": {
        "id": "cFcEXyO_ZpZE",
        "colab": {
          "base_uri": "https://localhost:8080/"
        },
        "outputId": "32c1a6cf-7fec-465c-a838-382b5aae7517"
      },
      "execution_count": 67,
      "outputs": [
        {
          "name": "stdout",
          "output_type": "stream",
          "text": [
            "Введите температуру по Цельсию: 30\n"
          ]
        }
      ]
    },
    {
      "cell_type": "code",
      "source": [
        "fahrenheit_temperature = (celsius_temperature * 9/5) + 32"
      ],
      "metadata": {
        "id": "NYX-8dIdGsWl"
      },
      "execution_count": 68,
      "outputs": []
    },
    {
      "cell_type": "code",
      "source": [
        "print(f\"Температура по Фаренгейту: {fahrenheit_temperature:} градусов\")"
      ],
      "metadata": {
        "colab": {
          "base_uri": "https://localhost:8080/"
        },
        "id": "S7EmYkRsG0kT",
        "outputId": "38f15c74-a59f-40a8-8d16-cf128bf69458"
      },
      "execution_count": 74,
      "outputs": [
        {
          "output_type": "stream",
          "name": "stdout",
          "text": [
            "Температура по Фаренгейту: 86.0 градусов\n"
          ]
        }
      ]
    },
    {
      "cell_type": "markdown",
      "source": [
        "**Регулятор ингредиентов**. Рецепт булочек предусматривает ингредиенты:\n",
        "* 1.5 стакана сахара;\n",
        "* 1 стакан масла;\n",
        "* 2.75 стакана муки.\n",
        "\n",
        "С таким количеством ингредиентов этот рецепт позволяет приготовить 48 булочек. Напишите программу, которая запрашивает у пользователя, сколько булочек он хочет приготовить, и затем показывает число стаканов каждого ингредиента, необходимого для заданного количества булочек."
      ],
      "metadata": {
        "id": "I_2A0M4LZxv1"
      }
    },
    {
      "cell_type": "code",
      "source": [
        "сахар_на_48_булочек = 1.5\n",
        "масло_на_48_булочек = 1\n",
        "мука_на_48_булочек = 2.75\n",
        "количество_булочек_на_рецепт = 48"
      ],
      "metadata": {
        "id": "Zuo7eJgsLBBe"
      },
      "execution_count": 75,
      "outputs": []
    },
    {
      "cell_type": "code",
      "source": [
        "количество_булочек = int(input(\"Введите количество булочек, которое вы хотите приготовить: \"))"
      ],
      "metadata": {
        "colab": {
          "base_uri": "https://localhost:8080/"
        },
        "id": "5Gvcg6muJ_ny",
        "outputId": "c80ab2ac-4b2c-47a5-916f-9d129f3bba90"
      },
      "execution_count": 76,
      "outputs": [
        {
          "name": "stdout",
          "output_type": "stream",
          "text": [
            "Введите количество булочек, которое вы хотите приготовить: 20\n"
          ]
        }
      ]
    },
    {
      "cell_type": "code",
      "source": [
        "сахар = (количество_булочек / количество_булочек_на_рецепт) * сахар_на_48_булочек\n",
        "масло = (количество_булочек / количество_булочек_на_рецепт) * масло_на_48_булочек\n",
        "мука = (количество_булочек / количество_булочек_на_рецепт) * мука_на_48_булочек\n"
      ],
      "metadata": {
        "id": "wFFGINoBKGWJ"
      },
      "execution_count": 77,
      "outputs": []
    },
    {
      "cell_type": "code",
      "source": [
        "print(f\"Для {количество_булочек} булочек вам потребуется:\")\n",
        "print(f\"{сахар:} стакана сахара\")\n",
        "print(f\"{масло:} стакана масла\")\n",
        "print(f\"{мука:} стакана муки\")"
      ],
      "metadata": {
        "colab": {
          "base_uri": "https://localhost:8080/"
        },
        "id": "toO2wvchKJow",
        "outputId": "85531886-f950-4cc4-a361-26f94c9cb995"
      },
      "execution_count": 78,
      "outputs": [
        {
          "output_type": "stream",
          "name": "stdout",
          "text": [
            "Для 20 булочек вам потребуется:\n",
            "0.625 стакана сахара\n",
            "0.4166666666666667 стакана масла\n",
            "1.1458333333333335 стакана муки\n"
          ]
        }
      ]
    },
    {
      "cell_type": "markdown",
      "source": [
        "**Процент учащихся обоего пола**. Напишите программу, которая запрашивает у пользо­ вателя количество учащихся мужского и женского пола, зарегистрированных в учебной группе. Программа должна показать процент учащихся мужского и женского пола."
      ],
      "metadata": {
        "id": "YMnBvHhxaBEU"
      }
    },
    {
      "cell_type": "code",
      "source": [
        "учащиеся_мужского_пола = int(input(\"Введите количество учащихся мужского пола: \"))\n",
        "учащиеся_женского_пола = int(input(\"Введите количество учащихся женского пола: \"))"
      ],
      "metadata": {
        "id": "NYpcP3zaaDIe",
        "colab": {
          "base_uri": "https://localhost:8080/"
        },
        "outputId": "45cf6858-e2c3-40b9-8ec1-4cb3d06c7b7f"
      },
      "execution_count": 79,
      "outputs": [
        {
          "name": "stdout",
          "output_type": "stream",
          "text": [
            "Введите количество учащихся мужского пола: 10\n",
            "Введите количество учащихся женского пола: 15\n"
          ]
        }
      ]
    },
    {
      "cell_type": "code",
      "source": [
        "общее_количество = учащиеся_мужского_пола + учащиеся_женского_пола\n"
      ],
      "metadata": {
        "id": "24Hx8-lsLQQ4"
      },
      "execution_count": 80,
      "outputs": []
    },
    {
      "cell_type": "code",
      "source": [
        "процент_мужского_пола = (учащиеся_мужского_пола / общее_количество) * 100\n",
        "процент_женского_пола = (учащиеся_женского_пола / общее_количество) * 100"
      ],
      "metadata": {
        "id": "-AFcmbOmLT5n"
      },
      "execution_count": 81,
      "outputs": []
    },
    {
      "cell_type": "code",
      "source": [
        "print(f\"Процент учащихся мужского пола: {процент_мужского_пола:}%\")\n",
        "print(f\"Процент учащихся женского пола: {процент_женского_пола:}%\")"
      ],
      "metadata": {
        "colab": {
          "base_uri": "https://localhost:8080/"
        },
        "id": "HRHX-19OLWwE",
        "outputId": "a28fecb1-2ebc-4bbe-dd96-0fdcebbc57b0"
      },
      "execution_count": 82,
      "outputs": [
        {
          "output_type": "stream",
          "name": "stdout",
          "text": [
            "Процент учащихся мужского пола: 40.0%\n",
            "Процент учащихся женского пола: 60.0%\n"
          ]
        }
      ]
    }
  ]
}